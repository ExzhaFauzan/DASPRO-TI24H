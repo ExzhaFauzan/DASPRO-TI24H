{
 "cells": [
  {
   "cell_type": "code",
   "execution_count": 24,
   "id": "3332e3eb-75b6-4bbd-af61-bf3e265867ed",
   "metadata": {},
   "outputs": [
    {
     "name": "stdout",
     "output_type": "stream",
     "text": [
      "Nama : Fauzan\n",
      "Alamat : Jl. Parungkuda\n",
      "umur : 18\n",
      "Nilai Pemrograman : 85\n",
      "Status Menikah : False\n",
      "Provinsi : 7413412\n"
     ]
    }
   ],
   "source": [
    "name= \"Fauzan\"\n",
    "address,province =\"Jl. Parungkuda\",\"7413412\"\n",
    "age = 18\n",
    "scorePython = 85\n",
    "isMarried = False\n",
    "\n",
    "print(\"Nama :\",name)\n",
    "print(\"Alamat :\",address)\n",
    "print(\"umur :\",age)\n",
    "print(\"Nilai Pemrograman :\",scorePython)\n",
    "print(\"Status Menikah :\",isMarried)\n",
    "print(\"Provinsi :\",province)"
   ]
  },
  {
   "cell_type": "code",
   "execution_count": 25,
   "id": "69528321-d5fd-448b-9e62-c99b39e9d553",
   "metadata": {
    "scrolled": true
   },
   "outputs": [
    {
     "name": "stdout",
     "output_type": "stream",
     "text": [
      "tipe data <name> <class 'str'>\n",
      "tipe data <address> <class 'str'>\n",
      "tipe data <age> <class 'int'>\n",
      "tipe data <scorePython> <class 'int'>\n",
      "tipe data <isMarried> <class 'bool'>\n",
      "tipe data <province> <class 'str'>\n"
     ]
    }
   ],
   "source": [
    "print(\"tipe data <name>\",type(name))\n",
    "print(\"tipe data <address>\",type(address))\n",
    "print(\"tipe data <age>\",type(age))\n",
    "print(\"tipe data <scorePython>\",type(scorePython))\n",
    "print(\"tipe data <isMarried>\",type(isMarried))\n",
    "print(\"tipe data <province>\",type(province))"
   ]
  },
  {
   "cell_type": "code",
   "execution_count": 31,
   "id": "a7366539-ad35-4bdd-9e2b-6e4f55c45ae1",
   "metadata": {},
   "outputs": [
    {
     "name": "stdout",
     "output_type": "stream",
     "text": [
      "7413414-7413412.0-True\n",
      "18-18.0-True\n"
     ]
    }
   ],
   "source": [
    "#casting / KOnversi tipe data\n",
    "#1. String ke (int,float,boolean)\n",
    "strToInt = int(province)\n",
    "strToFloat = float(province)\n",
    "strToBool = bool(province)\n",
    "print(strToInt + 2,strToFloat,strToBool, sep=\"-\")\n",
    "\n",
    "#2. int ke (str,float,boolean)\n",
    "intToStr = int(age)\n",
    "intToFloat = float(age)\n",
    "intToBool = bool(age)\n",
    "print(intToStr,intToFloat,intToBool, sep=\"-\")\n",
    "#3. Float ke (int, str, boolean)\n",
    "\n",
    "#4. Bool ke (int, str, boolean)"
   ]
  },
  {
   "cell_type": "code",
   "execution_count": 46,
   "id": "e0a77fe5-f169-417b-ab7a-b2dc2bb7b67d",
   "metadata": {},
   "outputs": [
    {
     "name": "stdout",
     "output_type": "stream",
     "text": [
      "Nilai desimal : 500\n",
      "Nilai Biner : 10\n",
      "NIlai octal : 255\n",
      "Nilai Hexa : 255\n",
      "nilai biner dari  500 : 0b111110100\n",
      "nilai octal dari  500 : 0o764\n",
      "nilai Hexa dari  500 : 0x1f4\n"
     ]
    }
   ],
   "source": [
    "#tipe data basis bilangan (desimal,biner,oktal,hexa)\n",
    "\n",
    "desimal = 500\n",
    "biner = 0b1010 #10\n",
    "octal = 0o377 #255\n",
    "hexa = 0xff #255\n",
    "\n",
    "print(\"Nilai desimal :\",desimal)\n",
    "print(\"Nilai Biner :\",biner)\n",
    "print(\"NIlai octal :\",octal)\n",
    "print(\"Nilai Hexa :\",hexa)\n",
    "\n",
    "print(\"nilai biner dari \",desimal, \":\",bin(desimal))\n",
    "print(\"nilai octal dari \",desimal, \":\",oct(desimal))\n",
    "print(\"nilai Hexa dari \",desimal, \":\",hex(desimal))"
   ]
  },
  {
   "cell_type": "code",
   "execution_count": 62,
   "id": "32951ab0-19c3-4c4f-8dba-6f9fdc86399a",
   "metadata": {
    "scrolled": true
   },
   "outputs": [
    {
     "name": "stdout",
     "output_type": "stream",
     "text": [
      "M\n",
      "8\n",
      "R\n"
     ]
    }
   ],
   "source": [
    "city = \"MAKASSAR\" \n",
    "lenght = len(city)\n",
    "print(city[0])\n",
    "print(lenght)\n",
    "print(city[lenght-1])"
   ]
  },
  {
   "cell_type": "code",
   "execution_count": 103,
   "id": "5644f4a0-d1bf-4234-a2a7-f4610c4b8462",
   "metadata": {},
   "outputs": [
    {
     "name": "stdout",
     "output_type": "stream",
     "text": [
      "['Bandung', 'Sukabumi', 'Bogor', 'Jakarta', 'Medan']\n",
      "Bandung\n",
      "Medan\n",
      "M\n",
      "n\n",
      "['Bali', 'Sukabumi', 'Bogor', 'Jakarta', 'Medan']\n",
      "('Fauzan', 'Raffa', 'Jahseh', 'pirni', 'sahla', 'Abayy')\n",
      "Abayy\n",
      "{'name': 'Fauzan', 'age': 18, 'Address': {'street': 'Parungkuda', 'number': 3, 'province': 'Jawa Barat'}, 'isMarried': True, 'Hobbies': ['Listening a Music', 'Typing']}\n",
      "18\n",
      "Jawa Barat\n",
      "Listening a Music\n",
      "Kramat\n",
      "{'name': 'Jahseh', 'age': 22, 'Address': {'street': 'Kramat', 'number': 4, 'province': 'Jawa Barat'}, 'isMarried': True, 'Hobbies': ['eat', 'play games', 'Sleep', 'Football']}\n",
      "{'name': 'Fauzan', 'age': 18, 'Address': {'street': 'Parungkuda', 'number': 3, 'province': 'Jawa Barat'}, 'isMarried': True, 'Hobbies': ['Listening a Music', 'Typing']}\n"
     ]
    }
   ],
   "source": [
    "#tipe data Collection\n",
    "#list\n",
    "cities = [\"Bandung\",\"Sukabumi\",\"Bogor\",\"Jakarta\",\"Medan\"]\n",
    "lenghtCities = len(cities)\n",
    "print(cities)\n",
    "print(cities[0])\n",
    "print(cities[lenghtCities-1])\n",
    "print(cities[lenghtCities-1][0])\n",
    "print(cities[lenghtCities-1][len(cities[lenghtCities-1])-1])\n",
    "cities[0] = \"Bali\"\n",
    "print(cities)\n",
    "\n",
    "names = (\"Fauzan\",\"Raffa\",\"Jahseh\",\"pirni\",\"sahla\",\"Abayy\")\n",
    "print(names)\n",
    "print(names[5])\n",
    "\n",
    "studentData = {\n",
    "    \"name\" : \"Fauzan\",\n",
    "    \"age\" : 18,\n",
    "    \"Address\" : {\n",
    "        \"street\" : \"Parungkuda\",\n",
    "        \"number\" : 3,\n",
    "        \"province\" : \"Jawa Barat\"\n",
    "        },\n",
    "    \"isMarried\" : True,\n",
    "    \"Hobbies\" : [\"Listening a Music\", \"Typing\"] \n",
    "}\n",
    "print(studentData)\n",
    "print(studentData[\"age\"])\n",
    "print(studentData[\"Address\"][\"province\"])\n",
    "print(studentData[\"Hobbies\"][0])\n",
    "\n",
    "studentList = [\n",
    "    {\n",
    "    \"name\" : \"Fauzan\",\n",
    "    \"age\" : 18,\n",
    "    \"Address\" : {\n",
    "        \"street\" : \"Parungkuda\",\n",
    "        \"number\" : 3,\n",
    "        \"province\" : \"Jawa Barat\"\n",
    "        },\n",
    "    \"isMarried\" : True,\n",
    "    \"Hobbies\" : [\"Listening a Music\", \"Typing\"] \n",
    "},\n",
    "    {\n",
    "    \"name\" : \"Jahseh\",\n",
    "    \"age\" : 22,\n",
    "    \"Address\" : {\n",
    "        \"street\" : \"Kramat\",\n",
    "        \"number\" : 4,\n",
    "        \"province\" : \"Jawa Barat\"\n",
    "        },\n",
    "    \"isMarried\" : True,\n",
    "    \"Hobbies\" : [\"eat\", \"play games\", \"Sleep\", \"Football\"] \n",
    "}\n",
    "]\n",
    "print(studentList[1][\"Address\"][\"street\"])\n",
    "print(studentList[1])\n",
    "print(studentList[0])"
   ]
  },
  {
   "cell_type": "code",
   "execution_count": 117,
   "id": "21e2d59b-5b97-4d30-a75b-c8e495115857",
   "metadata": {},
   "outputs": [
    {
     "name": "stdout",
     "output_type": "stream",
     "text": [
      "{'Name': 'Fauzan', 'Age': 18, 'Status': False}\n",
      "{'Name': 'Raffa', 'Address': 'Sukabumi'}\n",
      "{'Name': 'Tiger', 'Type': 'Mamalia'}\n",
      "{'Name': 'Crocodile', 'Type': 'Reptile'}\n",
      "{'Vehicle': 'Car', 'brand': 'BMW', 'cc': 2500}\n"
     ]
    }
   ],
   "source": [
    "#konversi dictionary\n",
    "\n",
    "list_list = [[\"Name\",\"Fauzan\"], [\"Age\",18], [\"Status\",False]] \n",
    "dictListStudent = dict(list_list)\n",
    "print(dictListStudent)\n",
    "\n",
    "list_tuple = [(\"Name\",\"Raffa\"),(\"Address\",\"Sukabumi\")]\n",
    "dictTupleStudent = dict(list_tuple)\n",
    "print(dictTupleStudent)\n",
    "\n",
    "tuple_list = ([\"Name\",\"Tiger\"],[\"Type\",\"Mamalia\"])\n",
    "dictListAnimal = dict(tuple_list)\n",
    "print(dictListAnimal)\n",
    "\n",
    "tuple_tuple = ((\"Name\",\"Crocodile\"),(\"Type\",\"Reptile\"))\n",
    "dictTupleAnimal = dict(tuple_tuple)\n",
    "print(dictTupleAnimal)\n",
    "\n",
    "keys = [\"Vehicle\",\"brand\",\"cc\"]\n",
    "values = [\"Car\",\"BMW\",2500]\n",
    "Car = dict(zip(keys,values))\n",
    "print(Car)"
   ]
  }
 ],
 "metadata": {
  "kernelspec": {
   "display_name": "Python 3 (ipykernel)",
   "language": "python",
   "name": "python3"
  },
  "language_info": {
   "codemirror_mode": {
    "name": "ipython",
    "version": 3
   },
   "file_extension": ".py",
   "mimetype": "text/x-python",
   "name": "python",
   "nbconvert_exporter": "python",
   "pygments_lexer": "ipython3",
   "version": "3.12.7"
  }
 },
 "nbformat": 4,
 "nbformat_minor": 5
}
